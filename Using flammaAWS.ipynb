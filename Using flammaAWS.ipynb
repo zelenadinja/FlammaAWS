{
 "cells": [
  {
   "cell_type": "code",
   "execution_count": 1,
   "id": "1f8b92d5",
   "metadata": {},
   "outputs": [],
   "source": [
    "from main import flammaAWS"
   ]
  },
  {
   "cell_type": "code",
   "execution_count": 2,
   "id": "bcd1fb7b",
   "metadata": {},
   "outputs": [],
   "source": [
    "flamma = flammaAWS(bucket_name='testflamma', object_key=None, aws_credentials=None)\n",
    "#First option is to set object_key to None, its gona search for all zip objects."
   ]
  },
  {
   "cell_type": "code",
   "execution_count": 3,
   "id": "e9aa4349",
   "metadata": {},
   "outputs": [
    {
     "name": "stdout",
     "output_type": "stream",
     "text": [
      "2021-11-15 09:10:47      51538 assignment1_colab.zip\r\n",
      "2021-11-17 10:00:58     309211 assignment2_colab.zip\r\n",
      "2021-11-17 10:01:06    4156401 assignment3_colab.zip\r\n"
     ]
    }
   ],
   "source": [
    "!aws s3 ls s3://testflamma"
   ]
  },
  {
   "cell_type": "code",
   "execution_count": 4,
   "id": "b8e7bb77",
   "metadata": {},
   "outputs": [
    {
     "name": "stdout",
     "output_type": "stream",
     "text": [
      "Object size (0.0492 MB) is less than threshold (1024.0 MB).Fit whole file into memory.\n"
     ]
    },
    {
     "name": "stderr",
     "output_type": "stream",
     "text": [
      "assignment1/collectSubmission.sh: 100%|███| 1.15k/1.15k [00:00<00:00, 7.24kB/s]\n",
      "assignment1/cs231n/: 0.00B [00:00, ?B/s]\n",
      "assignment1/README.md: 100%|██████████████████| 131/131 [00:00<00:00, 1.27kB/s]\n",
      "assignment1/makepdf.py: 100%|█████████████| 1.07k/1.07k [00:00<00:00, 9.14kB/s]\n",
      "assignment1/cs231n/optim.py: 100%|████████| 2.06k/2.06k [00:00<00:00, 14.4kB/s]\n",
      "assignment1/cs231n/layer_utils.py: 100%|██████| 737/737 [00:00<00:00, 7.03kB/s]\n",
      "assignment1/cs231n/vis_utils.py: 100%|████| 2.32k/2.32k [00:00<00:00, 21.2kB/s]\n",
      "assignment1/cs231n/layers.py: 100%|███████| 7.08k/7.08k [00:00<00:00, 61.6kB/s]\n",
      "assignment1/cs231n/__init__.py: 0.00B [00:00, ?B/s]\n",
      "assignment1/cs231n/solver.py: 100%|████████| 12.3k/12.3k [00:00<00:00, 107kB/s]\n",
      "assignment1/cs231n/datasets/: 0.00B [00:00, ?B/s]\n",
      "assignment1/cs231n/features.py: 100%|█████| 5.31k/5.31k [00:00<00:00, 49.6kB/s]\n",
      "assignment1/cs231n/gradient_check.py: 100%|█| 3.98k/3.98k [00:00<00:00, 36.9kB/\n",
      "assignment1/cs231n/classifiers/: 0.00B [00:00, ?B/s]\n",
      "assignment1/cs231n/data_utils.py: 100%|███| 9.56k/9.56k [00:00<00:00, 85.0kB/s]\n",
      "assignment1/cs231n/datasets/get_datasets.sh: 100%|█| 194/194 [00:00<00:00, 1.89\n",
      "assignment1/cs231n/classifiers/fc_net.py: 100%|█| 5.65k/5.65k [00:00<00:00, 51.\n",
      "assignment1/cs231n/classifiers/linear_classifier.py: 100%|█| 5.79k/5.79k [00:00\n",
      "assignment1/cs231n/classifiers/softmax.py: 100%|█| 2.42k/2.42k [00:00<00:00, 22\n",
      "assignment1/cs231n/classifiers/linear_svm.py: 100%|█| 4.02k/4.02k [00:00<00:00,\n",
      "assignment1/cs231n/classifiers/__init__.py: 100%|█| 67.0/67.0 [00:00<00:00, 690\n",
      "assignment1/cs231n/classifiers/k_nearest_neighbor.py: 100%|█| 8.35k/8.35k [00:0\n",
      "assignment1/features.ipynb: 100%|██████████| 13.8k/13.8k [00:00<00:00, 127kB/s]\n",
      "assignment1/softmax.ipynb: 100%|███████████| 13.4k/13.4k [00:00<00:00, 110kB/s]\n",
      "assignment1/collect_submission.ipynb: 100%|█| 1.72k/1.72k [00:00<00:00, 15.4kB/\n",
      "assignment1/svm.ipynb: 100%|███████████████| 22.2k/22.2k [00:00<00:00, 178kB/s]\n",
      "assignment1/two_layer_net.ipynb: 100%|█████| 24.3k/24.3k [00:00<00:00, 125kB/s]\n",
      "assignment1/knn.ipynb: 100%|███████████████| 20.2k/20.2k [00:00<00:00, 171kB/s]\n"
     ]
    },
    {
     "name": "stdout",
     "output_type": "stream",
     "text": [
      "Deleting object...\n",
      "Object size (0.2949 MB) is less than threshold (1024.0 MB).Fit whole file into memory.\n"
     ]
    },
    {
     "name": "stderr",
     "output_type": "stream",
     "text": [
      "assignment2/requirements.txt: 100%|███████| 1.11k/1.11k [00:00<00:00, 10.4kB/s]\n",
      "assignment2/cs231n/: 0.00B [00:00, ?B/s]\n",
      "assignment2/makepdf.py: 100%|█████████████| 1.07k/1.07k [00:00<00:00, 10.7kB/s]\n",
      "assignment2/collectSubmission.sh: 100%|███| 1.11k/1.11k [00:00<00:00, 8.67kB/s]\n",
      "assignment2/cs231n/layer_utils.py: 100%|██| 3.89k/3.89k [00:00<00:00, 34.3kB/s]\n",
      "assignment2/cs231n/solver.py: 100%|████████| 12.3k/12.3k [00:00<00:00, 110kB/s]\n",
      "assignment2/cs231n/gradient_check.py: 100%|█| 3.98k/3.98k [00:00<00:00, 27.3kB/\n",
      "assignment2/cs231n/datasets/: 0.00B [00:00, ?B/s]\n",
      "assignment2/cs231n/notebook_images/: 0.00B [00:00, ?B/s]\n",
      "assignment2/cs231n/__init__.py: 0.00B [00:00, ?B/s]\n",
      "assignment2/cs231n/im2col_cython.pyx: 100%|█| 4.98k/4.98k [00:00<00:00, 45.4kB/\n",
      "assignment2/cs231n/setup.py: 100%|████████████| 289/289 [00:00<00:00, 2.71kB/s]\n",
      "assignment2/cs231n/data_utils.py: 100%|███| 9.56k/9.56k [00:00<00:00, 63.1kB/s]\n",
      "assignment2/cs231n/fast_layers.py: 100%|██| 9.88k/9.88k [00:00<00:00, 74.0kB/s]\n",
      "assignment2/cs231n/layers.py: 100%|████████| 33.6k/33.6k [00:00<00:00, 203kB/s]\n",
      "assignment2/cs231n/vis_utils.py: 100%|████| 2.32k/2.32k [00:00<00:00, 15.3kB/s]\n",
      "assignment2/cs231n/optim.py: 100%|████████| 6.33k/6.33k [00:00<00:00, 60.9kB/s]\n",
      "assignment2/cs231n/classifiers/: 0.00B [00:00, ?B/s]\n",
      "assignment2/cs231n/im2col.py: 100%|███████| 2.24k/2.24k [00:00<00:00, 20.9kB/s]\n",
      "assignment2/cs231n/datasets/get_datasets.sh: 100%|█| 194/194 [00:00<00:00, 1.88\n",
      "assignment2/cs231n/notebook_images/kitten.jpg: 100%|█| 21.4k/21.4k [00:00<00:00\n",
      "assignment2/cs231n/notebook_images/batchnorm_graph.png: 100%|█| 95.6k/95.6k [00\n",
      "assignment2/cs231n/notebook_images/puppy.jpg: 100%|█| 38.4k/38.4k [00:00<00:00,\n",
      "assignment2/cs231n/notebook_images/normalization.png: 100%|█| 82.6k/82.6k [00:0\n",
      "assignment2/cs231n/classifiers/fc_net.py: 100%|█| 9.55k/9.55k [00:00<00:00, 56.\n",
      "assignment2/cs231n/classifiers/cnn.py: 100%|█| 6.47k/6.47k [00:00<00:00, 56.4kB\n",
      "assignment2/Dropout.ipynb: 100%|██████████| 11.1k/11.1k [00:00<00:00, 98.0kB/s]\n",
      "assignment2/BatchNormalization.ipynb: 100%|█| 36.2k/36.2k [00:00<00:00, 302kB/s\n",
      "assignment2/FullyConnectedNets.ipynb: 100%|█| 22.9k/22.9k [00:00<00:00, 194kB/s\n",
      "assignment2/PyTorch.ipynb: 100%|███████████| 55.7k/55.7k [00:00<00:00, 363kB/s]\n",
      "assignment2/TensorFlow.ipynb: 100%|████████| 72.3k/72.3k [00:00<00:00, 188kB/s]\n",
      "assignment2/collect_submission.ipynb: 100%|█| 1.77k/1.77k [00:00<00:00, 17.0kB/\n",
      "assignment2/ConvolutionalNetworks.ipynb: 100%|█| 40.7k/40.7k [00:00<00:00, 302k\n"
     ]
    },
    {
     "name": "stdout",
     "output_type": "stream",
     "text": [
      "Deleting object...\n",
      "Object size (3.9639 MB) is less than threshold (1024.0 MB).Fit whole file into memory.\n"
     ]
    },
    {
     "name": "stderr",
     "output_type": "stream",
     "text": [
      "assignment3/gan-checks.npz: 100%|█████████| 2.19k/2.19k [00:00<00:00, 20.3kB/s]\n",
      "assignment3/requirements.txt: 100%|███████| 1.11k/1.11k [00:00<00:00, 10.5kB/s]\n",
      "assignment3/images/: 0.00B [00:00, ?B/s]\n",
      "assignment3/cs231n/: 0.00B [00:00, ?B/s]\n",
      "assignment3/style-transfer-checks.npz: 100%|█| 66.3k/66.3k [00:00<00:00, 226kB/\n",
      "assignment3/makepdf.py: 100%|█████████████| 1.16k/1.16k [00:00<00:00, 6.21kB/s]\n",
      "assignment3/simclr_sanity_check.key: 100%|█| 26.7k/26.7k [00:00<00:00, 191kB/s]\n",
      "assignment3/collectSubmission.sh: 100%|███| 1.24k/1.24k [00:00<00:00, 10.2kB/s]\n",
      "assignment3/images/kitten.jpg: 100%|███████| 21.4k/21.4k [00:00<00:00, 135kB/s]\n",
      "assignment3/images/simclr_fig2.png: 100%|████| 272k/272k [00:01<00:00, 212kB/s]\n",
      "assignment3/images/gan_outputs_pytorch.png: 100%|█| 64.3k/64.3k [00:00<00:00, 2\n",
      "assignment3/images/styles/: 0.00B [00:00, ?B/s]\n",
      "assignment3/images/sky.jpg: 100%|████████████| 148k/148k [00:00<00:00, 201kB/s]\n",
      "assignment3/images/example_styletransfer.png: 100%|█| 1.47M/1.47M [00:07<00:00,\n",
      "assignment3/images/styles/the_scream.jpg: 100%|█| 217k/217k [00:00<00:00, 231kB\n",
      "assignment3/images/styles/composition_vii.jpg: 100%|█| 202k/202k [00:01<00:00, \n",
      "assignment3/images/styles/tubingen.jpg: 100%|█| 407k/407k [00:02<00:00, 187kB/s\n",
      "assignment3/images/styles/muse.jpg: 100%|████| 704k/704k [00:04<00:00, 173kB/s]\n",
      "assignment3/images/styles/starry_night.jpg: 100%|█| 613k/613k [00:04<00:00, 150\n",
      "assignment3/cs231n/simclr/: 0.00B [00:00, ?B/s]\n",
      "assignment3/cs231n/rnn_layers.py: 100%|███| 20.7k/20.7k [00:00<00:00, 69.8kB/s]\n",
      "assignment3/cs231n/image_utils.py: 100%|██| 2.79k/2.79k [00:00<00:00, 4.96kB/s]\n",
      "assignment3/cs231n/gan_pytorch.py: 100%|██| 11.8k/11.8k [00:00<00:00, 48.8kB/s]\n",
      "assignment3/cs231n/gradient_check.py: 100%|█| 3.88k/3.88k [00:00<00:00, 20.8kB/\n",
      "assignment3/cs231n/captioning_solver.py: 100%|█| 8.53k/8.53k [00:00<00:00, 35.2\n",
      "assignment3/cs231n/datasets/: 0.00B [00:00, ?B/s]\n",
      "assignment3/cs231n/__init__.py: 0.00B [00:00, ?B/s]\n",
      "assignment3/cs231n/net_visualization_pytorch.py: 100%|█| 6.37k/6.37k [00:00<00:\n",
      "assignment3/cs231n/captioning_solver_transformer.py: 100%|█| 6.74k/6.74k [00:00\n",
      "assignment3/cs231n/data_utils.py: 100%|███| 9.47k/9.47k [00:00<00:00, 68.4kB/s]\n",
      "assignment3/cs231n/coco_utils.py: 100%|███| 3.01k/3.01k [00:00<00:00, 26.5kB/s]\n",
      "assignment3/cs231n/optim.py: 100%|████████| 4.58k/4.58k [00:00<00:00, 12.7kB/s]\n",
      "assignment3/cs231n/classifiers/: 0.00B [00:00, ?B/s]\n",
      "assignment3/cs231n/transformer_layers.py: 100%|█| 8.88k/8.88k [00:00<00:00, 47.\n",
      "assignment3/cs231n/simclr/model.py: 100%|█| 1.01k/1.01k [00:00<00:00, 5.31kB/s]\n",
      "assignment3/cs231n/simclr/data_utils.py: 100%|█| 3.24k/3.24k [00:00<00:00, 18.3\n",
      "assignment3/cs231n/simclr/utils.py: 100%|█| 6.37k/6.37k [00:00<00:00, 34.7kB/s]\n",
      "assignment3/cs231n/simclr/contrastive_loss.py: 100%|█| 8.36k/8.36k [00:00<00:00\n",
      "assignment3/cs231n/datasets/get_imagenet_val.sh: 100%|█| 52.0/52.0 [00:00<00:00\n",
      "assignment3/cs231n/datasets/get_datasets.sh: 100%|█| 107/107 [00:00<00:00, 592B\n",
      "assignment3/cs231n/datasets/get_coco_captioning.sh: 100%|█| 103/103 [00:00<00:0\n",
      "assignment3/cs231n/classifiers/__init__.py: 0.00B [00:00, ?B/s]\n",
      "assignment3/cs231n/classifiers/transformer.py: 100%|█| 8.43k/8.43k [00:00<00:00\n",
      "assignment3/cs231n/classifiers/rnn.py: 100%|█| 11.5k/11.5k [00:00<00:00, 57.0kB\n",
      "assignment3/RNN_Captioning.ipynb: 100%|████| 29.9k/29.9k [00:00<00:00, 120kB/s]\n",
      "assignment3/Generative_Adversarial_Networks.ipynb: 100%|█| 32.9k/32.9k [00:00<0\n",
      "assignment3/Transformer_Captioning.ipynb: 100%|█| 17.1k/17.1k [00:00<00:00, 108\n",
      "assignment3/Network_Visualization.ipynb: 100%|█| 20.3k/20.3k [00:00<00:00, 163k\n",
      "assignment3/Self_Supervised_Learning.ipynb: 100%|█| 32.5k/32.5k [00:00<00:00, 2\n",
      "assignment3/collect_submission.ipynb: 100%|█| 1.86k/1.86k [00:00<00:00, 18.6kB/\n",
      "assignment3/LSTM_Captioning.ipynb: 100%|███| 19.0k/19.0k [00:00<00:00, 126kB/s]\n"
     ]
    },
    {
     "name": "stdout",
     "output_type": "stream",
     "text": [
      "Deleting object...\n"
     ]
    }
   ],
   "source": [
    "flamma.unzip_upload(threshold=1024*1024*1024, verbose=True, delete=True)\n",
    "#If size of file is less than threshold its gona stream whole file at once.If size of file is greater than threshold\n",
    "#its gona use FileLikeObject.Thats subjective, for me it was 2GB limit before getting python bug.Thresholds is in bytes.\n",
    "#Verbose for progressbar\n",
    "#delete, if true its gona delete .zip files after upload\n",
    "\n",
    "\n",
    "#So this is going to unzip all three files, and delete .zip after uploading back to Bucket."
   ]
  },
  {
   "cell_type": "code",
   "execution_count": 5,
   "id": "ecf50406",
   "metadata": {},
   "outputs": [
    {
     "name": "stdout",
     "output_type": "stream",
     "text": [
      "                           PRE assignment1/\r\n",
      "                           PRE assignment2/\r\n",
      "                           PRE assignment3/\r\n"
     ]
    }
   ],
   "source": [
    "!aws s3 ls s3://testflamma"
   ]
  },
  {
   "cell_type": "code",
   "execution_count": 9,
   "id": "6ad2b4a5",
   "metadata": {},
   "outputs": [
    {
     "name": "stdout",
     "output_type": "stream",
     "text": [
      "2021-11-17 10:28:49      51538 assignment1_colab.zip\r\n",
      "2021-11-17 10:28:55     309211 assignment2_colab.zip\r\n",
      "2021-11-17 10:29:02    4156401 assignment3_colab.zip\r\n"
     ]
    }
   ],
   "source": [
    "flamma = flammaAWS(bucket_name='testflamma', object_key=['assignment1_colab.zip', 'assignment2_colab.zip'])\n",
    "#Second option is to provide a list of object_keys.\n",
    "!aws s3 ls s3://testflamma"
   ]
  },
  {
   "cell_type": "code",
   "execution_count": 10,
   "id": "8930de5c",
   "metadata": {},
   "outputs": [
    {
     "name": "stdout",
     "output_type": "stream",
     "text": [
      "Object size (0.0492 MB) is less than threshold (1024.0 MB).Fit whole file into memory.\n",
      "Object size (0.2949 MB) is less than threshold (1024.0 MB).Fit whole file into memory.\n"
     ]
    }
   ],
   "source": [
    "flamma.unzip_upload(threshold=1024*1024*1024, verbose=False, delete=False)\n",
    "#Lets not use progressbar and dont delete zip files after uploading unzipped content"
   ]
  },
  {
   "cell_type": "code",
   "execution_count": 11,
   "id": "d7991767",
   "metadata": {},
   "outputs": [
    {
     "name": "stdout",
     "output_type": "stream",
     "text": [
      "                           PRE assignment1/\r\n",
      "                           PRE assignment2/\r\n",
      "2021-11-17 10:28:49      51538 assignment1_colab.zip\r\n",
      "2021-11-17 10:28:55     309211 assignment2_colab.zip\r\n",
      "2021-11-17 10:29:02    4156401 assignment3_colab.zip\r\n"
     ]
    }
   ],
   "source": [
    "#Now S3 Bucket should containt all zip files and 2 DIRs assignment1 and assignment2 \n",
    "!aws s3 ls s3://testflamma"
   ]
  },
  {
   "cell_type": "code",
   "execution_count": 12,
   "id": "173c111f",
   "metadata": {},
   "outputs": [
    {
     "name": "stdout",
     "output_type": "stream",
     "text": [
      "2021-11-17 10:28:49      51538 assignment1_colab.zip\r\n",
      "2021-11-17 10:28:55     309211 assignment2_colab.zip\r\n",
      "2021-11-17 10:29:02    4156401 assignment3_colab.zip\r\n"
     ]
    }
   ],
   "source": [
    "flamma = flammaAWS(bucket_name='testflamma', object_key='assignment3_colab.zip')\n",
    "#Third option is to provide single object key \n",
    "!aws s3 ls s3://testflamma"
   ]
  },
  {
   "cell_type": "code",
   "execution_count": 14,
   "id": "cf38278a",
   "metadata": {},
   "outputs": [
    {
     "name": "stdout",
     "output_type": "stream",
     "text": [
      "Object size (3.9639 MB) is less than threshold (1024.0 MB).Fit whole file into memory.\n"
     ]
    },
    {
     "name": "stderr",
     "output_type": "stream",
     "text": [
      "assignment3/gan-checks.npz: 100%|█████████| 2.19k/2.19k [00:00<00:00, 9.63kB/s]\n",
      "assignment3/requirements.txt: 100%|███████| 1.11k/1.11k [00:00<00:00, 8.30kB/s]\n",
      "assignment3/images/: 0.00B [00:00, ?B/s]\n",
      "assignment3/cs231n/: 0.00B [00:00, ?B/s]\n",
      "assignment3/style-transfer-checks.npz: 100%|█| 66.3k/66.3k [00:00<00:00, 306kB/\n",
      "assignment3/makepdf.py: 100%|█████████████| 1.16k/1.16k [00:00<00:00, 10.9kB/s]\n",
      "assignment3/simclr_sanity_check.key: 100%|█| 26.7k/26.7k [00:00<00:00, 223kB/s]\n",
      "assignment3/collectSubmission.sh: 100%|███| 1.24k/1.24k [00:00<00:00, 11.0kB/s]\n",
      "assignment3/images/kitten.jpg: 100%|███████| 21.4k/21.4k [00:00<00:00, 183kB/s]\n",
      "assignment3/images/simclr_fig2.png: 100%|████| 272k/272k [00:01<00:00, 226kB/s]\n",
      "assignment3/images/gan_outputs_pytorch.png: 100%|█| 64.3k/64.3k [00:00<00:00, 1\n",
      "assignment3/images/styles/: 0.00B [00:00, ?B/s]\n",
      "assignment3/images/sky.jpg: 100%|████████████| 148k/148k [00:00<00:00, 219kB/s]\n",
      "assignment3/images/example_styletransfer.png: 100%|█| 1.47M/1.47M [00:08<00:00,\n",
      "assignment3/images/styles/the_scream.jpg: 100%|█| 217k/217k [00:01<00:00, 187kB\n",
      "assignment3/images/styles/composition_vii.jpg: 100%|█| 202k/202k [00:01<00:00, \n",
      "assignment3/images/styles/tubingen.jpg: 100%|█| 407k/407k [00:02<00:00, 169kB/s\n",
      "assignment3/images/styles/muse.jpg: 100%|████| 704k/704k [00:03<00:00, 182kB/s]\n",
      "assignment3/images/styles/starry_night.jpg: 100%|█| 613k/613k [00:03<00:00, 175\n",
      "assignment3/cs231n/simclr/: 0.00B [00:00, ?B/s]\n",
      "assignment3/cs231n/rnn_layers.py: 100%|████| 20.7k/20.7k [00:00<00:00, 165kB/s]\n",
      "assignment3/cs231n/image_utils.py: 100%|██| 2.79k/2.79k [00:00<00:00, 25.0kB/s]\n",
      "assignment3/cs231n/gan_pytorch.py: 100%|██| 11.8k/11.8k [00:00<00:00, 99.5kB/s]\n",
      "assignment3/cs231n/gradient_check.py: 100%|█| 3.88k/3.88k [00:00<00:00, 37.2kB/\n",
      "assignment3/cs231n/captioning_solver.py: 100%|█| 8.53k/8.53k [00:00<00:00, 62.0\n",
      "assignment3/cs231n/datasets/: 0.00B [00:00, ?B/s]\n",
      "assignment3/cs231n/__init__.py: 0.00B [00:00, ?B/s]\n",
      "assignment3/cs231n/net_visualization_pytorch.py: 100%|█| 6.37k/6.37k [00:00<00:\n",
      "assignment3/cs231n/captioning_solver_transformer.py: 100%|█| 6.74k/6.74k [00:00\n",
      "assignment3/cs231n/data_utils.py: 100%|███| 9.47k/9.47k [00:00<00:00, 84.8kB/s]\n",
      "assignment3/cs231n/coco_utils.py: 100%|███| 3.01k/3.01k [00:00<00:00, 28.7kB/s]\n",
      "assignment3/cs231n/optim.py: 100%|████████| 4.58k/4.58k [00:00<00:00, 41.7kB/s]\n",
      "assignment3/cs231n/classifiers/: 0.00B [00:00, ?B/s]\n",
      "assignment3/cs231n/transformer_layers.py: 100%|█| 8.88k/8.88k [00:00<00:00, 77.\n",
      "assignment3/cs231n/simclr/model.py: 100%|█| 1.01k/1.01k [00:00<00:00, 9.63kB/s]\n",
      "assignment3/cs231n/simclr/data_utils.py: 100%|█| 3.24k/3.24k [00:00<00:00, 31.4\n",
      "assignment3/cs231n/simclr/utils.py: 100%|█| 6.37k/6.37k [00:00<00:00, 57.2kB/s]\n",
      "assignment3/cs231n/simclr/contrastive_loss.py: 100%|█| 8.36k/8.36k [00:00<00:00\n",
      "assignment3/cs231n/datasets/get_imagenet_val.sh: 100%|█| 52.0/52.0 [00:00<00:00\n",
      "assignment3/cs231n/datasets/get_datasets.sh: 100%|█| 107/107 [00:00<00:00, 1.03\n",
      "assignment3/cs231n/datasets/get_coco_captioning.sh: 100%|█| 103/103 [00:00<00:0\n",
      "assignment3/cs231n/classifiers/__init__.py: 0.00B [00:00, ?B/s]\n",
      "assignment3/cs231n/classifiers/transformer.py: 100%|█| 8.43k/8.43k [00:00<00:00\n",
      "assignment3/cs231n/classifiers/rnn.py: 100%|█| 11.5k/11.5k [00:00<00:00, 98.2kB\n",
      "assignment3/RNN_Captioning.ipynb: 100%|████| 29.9k/29.9k [00:00<00:00, 237kB/s]\n",
      "assignment3/Generative_Adversarial_Networks.ipynb: 100%|█| 32.9k/32.9k [00:00<0\n",
      "assignment3/Transformer_Captioning.ipynb: 100%|█| 17.1k/17.1k [00:00<00:00, 118\n",
      "assignment3/Network_Visualization.ipynb: 100%|█| 20.3k/20.3k [00:00<00:00, 152k\n",
      "assignment3/Self_Supervised_Learning.ipynb: 100%|█| 32.5k/32.5k [00:00<00:00, 2\n",
      "assignment3/collect_submission.ipynb: 100%|█| 1.86k/1.86k [00:00<00:00, 17.4kB/\n",
      "assignment3/LSTM_Captioning.ipynb: 100%|███| 19.0k/19.0k [00:00<00:00, 154kB/s]"
     ]
    },
    {
     "name": "stdout",
     "output_type": "stream",
     "text": [
      "Deleting object...\n"
     ]
    },
    {
     "name": "stderr",
     "output_type": "stream",
     "text": [
      "\n"
     ]
    }
   ],
   "source": [
    "flamma.unzip_upload(verbose=True, delete=True)\n",
    "#Lets leave threshold to default value which is 1GB\n",
    "#Use progressbar\n",
    "#Delete zip file"
   ]
  },
  {
   "cell_type": "code",
   "execution_count": 15,
   "id": "4757af52",
   "metadata": {},
   "outputs": [
    {
     "name": "stdout",
     "output_type": "stream",
     "text": [
      "                           PRE assignment3/\r\n",
      "2021-11-17 10:28:49      51538 assignment1_colab.zip\r\n",
      "2021-11-17 10:28:55     309211 assignment2_colab.zip\r\n"
     ]
    }
   ],
   "source": [
    "#Now S3Bucket should containt assignment3 DIR, and there should not be assignemnt3_colab.zip file\n",
    "!aws s3 ls s3://testflamma"
   ]
  },
  {
   "cell_type": "code",
   "execution_count": null,
   "id": "c3437f9e",
   "metadata": {},
   "outputs": [],
   "source": []
  }
 ],
 "metadata": {
  "kernelspec": {
   "display_name": "Python [conda env:flammaAWS] *",
   "language": "python",
   "name": "conda-env-flammaAWS-py"
  },
  "language_info": {
   "codemirror_mode": {
    "name": "ipython",
    "version": 3
   },
   "file_extension": ".py",
   "mimetype": "text/x-python",
   "name": "python",
   "nbconvert_exporter": "python",
   "pygments_lexer": "ipython3",
   "version": "3.9.7"
  }
 },
 "nbformat": 4,
 "nbformat_minor": 5
}
